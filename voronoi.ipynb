{
 "cells": [
  {
   "cell_type": "markdown",
   "metadata": {},
   "source": [
    "From https://ipython-books.github.io/145-computing-the-voronoi-diagram-of-a-set-of-points/\n",
    "\n",
    "# Computing the Voronoi diagram of a set of points\n",
    "## Loading and Calculation part using Pandas & Scipy\n",
    "The Voronoi diagram of a set of seed points divides space into several regions. Each region contains all points closer to one seed point than to any other seed point.\n",
    "\n",
    "The Voronoi diagram is a fundamental structure in computational geometry. It is widely used in computer science, robotics, geography, and other disciplines. For example, the Voronoi diagram of a set of metro stations gives us the closest station from any point in the city.\n",
    "\n",
    "![title](Voronoi_growth_euclidean.gif)\n",
    "\n",
    "In this recipe, we compute the Voronoi diagram of the set of metro stations in Paris using SciPy.\n",
    "1.  Let's import the packages:"
   ]
  },
  {
   "cell_type": "code",
   "execution_count": 43,
   "metadata": {},
   "outputs": [],
   "source": [
    "import numpy as np\n",
    "import pandas as pd\n",
    "import scipy.spatial as spatial\n",
    "import jupytab"
   ]
  },
  {
   "cell_type": "markdown",
   "metadata": {},
   "source": [
    "2. Let's load the dataset with pandas (which had been obtained on the RATP open data website, the public transport operator in Paris, at http://data.ratp.fr):"
   ]
  },
  {
   "cell_type": "code",
   "execution_count": 44,
   "metadata": {},
   "outputs": [
    {
     "data": {
      "text/html": [
       "<div>\n",
       "<style scoped>\n",
       "    .dataframe tbody tr th:only-of-type {\n",
       "        vertical-align: middle;\n",
       "    }\n",
       "\n",
       "    .dataframe tbody tr th {\n",
       "        vertical-align: top;\n",
       "    }\n",
       "\n",
       "    .dataframe thead th {\n",
       "        text-align: right;\n",
       "    }\n",
       "</style>\n",
       "<table border=\"1\" class=\"dataframe\">\n",
       "  <thead>\n",
       "    <tr style=\"text-align: right;\">\n",
       "      <th></th>\n",
       "      <th>1</th>\n",
       "      <th>2</th>\n",
       "      <th>3</th>\n",
       "      <th>4</th>\n",
       "      <th>5</th>\n",
       "    </tr>\n",
       "  </thead>\n",
       "  <tbody>\n",
       "    <tr>\n",
       "      <td>11608</td>\n",
       "      <td>2.350173</td>\n",
       "      <td>48.937238</td>\n",
       "      <td>THEATRE GERARD PHILIPE</td>\n",
       "      <td>SAINT-DENIS</td>\n",
       "      <td>tram</td>\n",
       "    </tr>\n",
       "    <tr>\n",
       "      <td>11609</td>\n",
       "      <td>2.301197</td>\n",
       "      <td>48.933118</td>\n",
       "      <td>TIMBAUD</td>\n",
       "      <td>GENNEVILLIERS</td>\n",
       "      <td>tram</td>\n",
       "    </tr>\n",
       "    <tr>\n",
       "      <td>11610</td>\n",
       "      <td>2.230144</td>\n",
       "      <td>48.913708</td>\n",
       "      <td>VICTOR BASCH</td>\n",
       "      <td>COLOMBES</td>\n",
       "      <td>tram</td>\n",
       "    </tr>\n",
       "  </tbody>\n",
       "</table>\n",
       "</div>"
      ],
      "text/plain": [
       "              1          2                       3              4     5\n",
       "11608  2.350173  48.937238  THEATRE GERARD PHILIPE    SAINT-DENIS  tram\n",
       "11609  2.301197  48.933118                 TIMBAUD  GENNEVILLIERS  tram\n",
       "11610  2.230144  48.913708            VICTOR BASCH       COLOMBES  tram"
      ]
     },
     "execution_count": 44,
     "metadata": {},
     "output_type": "execute_result"
    }
   ],
   "source": [
    "df = pd.read_csv('ratp.csv', sep='#', header=None)\n",
    "\n",
    "df[df.columns[1:]].tail(3)"
   ]
  },
  {
   "cell_type": "markdown",
   "metadata": {},
   "source": [
    "3.  The DataFrame object contains the coordinates, name, city, district, and type of station. Let's select all metro stations:"
   ]
  },
  {
   "cell_type": "code",
   "execution_count": 45,
   "metadata": {},
   "outputs": [
    {
     "data": {
      "text/html": [
       "<div>\n",
       "<style scoped>\n",
       "    .dataframe tbody tr th:only-of-type {\n",
       "        vertical-align: middle;\n",
       "    }\n",
       "\n",
       "    .dataframe tbody tr th {\n",
       "        vertical-align: top;\n",
       "    }\n",
       "\n",
       "    .dataframe thead th {\n",
       "        text-align: right;\n",
       "    }\n",
       "</style>\n",
       "<table border=\"1\" class=\"dataframe\">\n",
       "  <thead>\n",
       "    <tr style=\"text-align: right;\">\n",
       "      <th></th>\n",
       "      <th>1</th>\n",
       "      <th>2</th>\n",
       "      <th>3</th>\n",
       "      <th>4</th>\n",
       "      <th>5</th>\n",
       "    </tr>\n",
       "  </thead>\n",
       "  <tbody>\n",
       "    <tr>\n",
       "      <td>305</td>\n",
       "      <td>2.308041</td>\n",
       "      <td>48.841697</td>\n",
       "      <td>Volontaires</td>\n",
       "      <td>PARIS-15EME</td>\n",
       "      <td>metro</td>\n",
       "    </tr>\n",
       "    <tr>\n",
       "      <td>306</td>\n",
       "      <td>2.379884</td>\n",
       "      <td>48.857876</td>\n",
       "      <td>Voltaire (Léon Blum)</td>\n",
       "      <td>PARIS-11EME</td>\n",
       "      <td>metro</td>\n",
       "    </tr>\n",
       "    <tr>\n",
       "      <td>307</td>\n",
       "      <td>2.304651</td>\n",
       "      <td>48.883874</td>\n",
       "      <td>Wagram</td>\n",
       "      <td>PARIS-17EME</td>\n",
       "      <td>metro</td>\n",
       "    </tr>\n",
       "  </tbody>\n",
       "</table>\n",
       "</div>"
      ],
      "text/plain": [
       "            1          2                     3            4      5\n",
       "305  2.308041  48.841697           Volontaires  PARIS-15EME  metro\n",
       "306  2.379884  48.857876  Voltaire (Léon Blum)  PARIS-11EME  metro\n",
       "307  2.304651  48.883874                Wagram  PARIS-17EME  metro"
      ]
     },
     "execution_count": 45,
     "metadata": {},
     "output_type": "execute_result"
    }
   ],
   "source": [
    "metro = df[(df[5] == 'metro')]\n",
    "\n",
    "metro[metro.columns[1:]].tail(3)"
   ]
  },
  {
   "cell_type": "markdown",
   "metadata": {},
   "source": [
    "4.  We are going to extract the district number of Paris' stations. With pandas, we can use vectorized string operations using the str attribute of the corresponding column."
   ]
  },
  {
   "cell_type": "code",
   "execution_count": 46,
   "metadata": {},
   "outputs": [],
   "source": [
    "# We only extract the district from stations in Paris.\n",
    "paris = metro[4].str.startswith('PARIS').values\n",
    "\n",
    "# We create a vector of integers with the district\n",
    "# number of the corresponding station, or 0 if the\n",
    "# station is not in Paris.\n",
    "districts = np.zeros(len(paris), dtype=np.int32)\n",
    "districts[paris] = metro[4][paris].str.slice(6, 8) \\\n",
    "    .astype(np.int32)\n",
    "districts[~paris] = 0\n",
    "ndistricts = districts.max() + 1"
   ]
  },
  {
   "cell_type": "markdown",
   "metadata": {},
   "source": [
    "5.  We also extract the coordinates of all metro stations:"
   ]
  },
  {
   "cell_type": "code",
   "execution_count": 47,
   "metadata": {},
   "outputs": [],
   "source": [
    "lon = metro[1]\n",
    "lat = metro[2]"
   ]
  },
  {
   "cell_type": "markdown",
   "metadata": {},
   "source": [
    "6.  Now, let's retrieve Paris' map with OpenStreetMap. We specify the map's boundaries with the extreme latitude and longitude coordinates of all our metro stations. We use Smopy to generate the map:"
   ]
  },
  {
   "cell_type": "code",
   "execution_count": 48,
   "metadata": {},
   "outputs": [
    {
     "data": {
      "text/html": [
       "<div>\n",
       "<style scoped>\n",
       "    .dataframe tbody tr th:only-of-type {\n",
       "        vertical-align: middle;\n",
       "    }\n",
       "\n",
       "    .dataframe tbody tr th {\n",
       "        vertical-align: top;\n",
       "    }\n",
       "\n",
       "    .dataframe thead th {\n",
       "        text-align: right;\n",
       "    }\n",
       "</style>\n",
       "<table border=\"1\" class=\"dataframe\">\n",
       "  <thead>\n",
       "    <tr style=\"text-align: right;\">\n",
       "      <th></th>\n",
       "      <th>station_id</th>\n",
       "      <th>district</th>\n",
       "      <th>longitude</th>\n",
       "      <th>latitude</th>\n",
       "      <th>name</th>\n",
       "    </tr>\n",
       "  </thead>\n",
       "  <tbody>\n",
       "    <tr>\n",
       "      <td>305</td>\n",
       "      <td>305</td>\n",
       "      <td>15</td>\n",
       "      <td>2.308041</td>\n",
       "      <td>48.841697</td>\n",
       "      <td>Volontaires</td>\n",
       "    </tr>\n",
       "    <tr>\n",
       "      <td>306</td>\n",
       "      <td>306</td>\n",
       "      <td>11</td>\n",
       "      <td>2.379884</td>\n",
       "      <td>48.857876</td>\n",
       "      <td>Voltaire (Léon Blum)</td>\n",
       "    </tr>\n",
       "    <tr>\n",
       "      <td>307</td>\n",
       "      <td>307</td>\n",
       "      <td>17</td>\n",
       "      <td>2.304651</td>\n",
       "      <td>48.883874</td>\n",
       "      <td>Wagram</td>\n",
       "    </tr>\n",
       "  </tbody>\n",
       "</table>\n",
       "</div>"
      ],
      "text/plain": [
       "     station_id  district  longitude   latitude                  name\n",
       "305         305        15   2.308041  48.841697           Volontaires\n",
       "306         306        11   2.379884  48.857876  Voltaire (Léon Blum)\n",
       "307         307        17   2.304651  48.883874                Wagram"
      ]
     },
     "execution_count": 48,
     "metadata": {},
     "output_type": "execute_result"
    }
   ],
   "source": [
    "station_df = pd.DataFrame({'district': districts,\n",
    "             'longitude': lon,\n",
    "             'latitude': lat}).join(metro[3]).reset_index().rename(columns={'index': 'station_id', 3: 'name'})\n",
    "station_df.tail(3)"
   ]
  },
  {
   "cell_type": "markdown",
   "metadata": {},
   "source": [
    "7.  We now compute the Voronoi diagram of the stations using SciPy. A Voronoi object is created with the points coordinates. It contains several attributes we will use for display:"
   ]
  },
  {
   "cell_type": "code",
   "execution_count": 49,
   "metadata": {},
   "outputs": [],
   "source": [
    "vor = spatial.Voronoi(np.c_[lat, lon])"
   ]
  },
  {
   "cell_type": "markdown",
   "metadata": {},
   "source": [
    "8.  We create a generic function to display a Voronoi diagram. SciPy already implements such a function, but this function does not take infinite points into account. The implementation we will use is available at http://stackoverflow.com/a/20678647/1595060:"
   ]
  },
  {
   "cell_type": "code",
   "execution_count": 50,
   "metadata": {},
   "outputs": [],
   "source": [
    "def voronoi_finite_polygons_2d(vor, radius=None):\n",
    "    \"\"\"Reconstruct infinite Voronoi regions in a\n",
    "    2D diagram to finite regions.\n",
    "    Source:\n",
    "    [https://stackoverflow.com/a/20678647/1595060](https://stackoverflow.com/a/20678647/1595060)\n",
    "    \"\"\"\n",
    "    if vor.points.shape[1] != 2:\n",
    "        raise ValueError(\"Requires 2D input\")\n",
    "    new_regions = []\n",
    "    new_vertices = vor.vertices.tolist()\n",
    "    center = vor.points.mean(axis=0)\n",
    "    if radius is None:\n",
    "        radius = vor.points.ptp().max()\n",
    "    # Construct a map containing all ridges for a\n",
    "    # given point\n",
    "    all_ridges = {}\n",
    "    for (p1, p2), (v1, v2) in zip(vor.ridge_points,\n",
    "                                  vor.ridge_vertices):\n",
    "        all_ridges.setdefault(\n",
    "            p1, []).append((p2, v1, v2))\n",
    "        all_ridges.setdefault(\n",
    "            p2, []).append((p1, v1, v2))\n",
    "    # Reconstruct infinite regions\n",
    "    for p1, region in enumerate(vor.point_region):\n",
    "        vertices = vor.regions[region]\n",
    "        if all(v >= 0 for v in vertices):\n",
    "            # finite region\n",
    "            new_regions.append(vertices)\n",
    "            continue\n",
    "        # reconstruct a non-finite region\n",
    "        ridges = all_ridges[p1]\n",
    "        new_region = [v for v in vertices if v >= 0]\n",
    "        for p2, v1, v2 in ridges:\n",
    "            if v2 < 0:\n",
    "                v1, v2 = v2, v1\n",
    "            if v1 >= 0:\n",
    "                # finite ridge: already in the region\n",
    "                continue\n",
    "            # Compute the missing endpoint of an\n",
    "            # infinite ridge\n",
    "            t = vor.points[p2] - \\\n",
    "                vor.points[p1]  # tangent\n",
    "            t /= np.linalg.norm(t)\n",
    "            n = np.array([-t[1], t[0]])  # normal\n",
    "            midpoint = vor.points[[p1, p2]]. \\\n",
    "                mean(axis=0)\n",
    "            direction = np.sign(\n",
    "                np.dot(midpoint - center, n)) * n\n",
    "            far_point = vor.vertices[v2] + \\\n",
    "                direction * radius\n",
    "            new_region.append(len(new_vertices))\n",
    "            new_vertices.append(far_point.tolist())\n",
    "        # Sort region counterclockwise.\n",
    "        vs = np.asarray([new_vertices[v]\n",
    "                         for v in new_region])\n",
    "        c = vs.mean(axis=0)\n",
    "        angles = np.arctan2(\n",
    "            vs[:, 1] - c[1], vs[:, 0] - c[0])\n",
    "        new_region = np.array(new_region)[\n",
    "            np.argsort(angles)]\n",
    "        new_regions.append(new_region.tolist())\n",
    "    return new_regions, np.asarray(new_vertices)"
   ]
  },
  {
   "cell_type": "code",
   "execution_count": 51,
   "metadata": {},
   "outputs": [],
   "source": [
    "regions, vertices = voronoi_finite_polygons_2d(vor)"
   ]
  },
  {
   "cell_type": "markdown",
   "metadata": {},
   "source": [
    "## Cleaning Data Frames and preparing for Tableau\n",
    "We need to clean data and prepare data for Tableau"
   ]
  },
  {
   "cell_type": "code",
   "execution_count": 52,
   "metadata": {},
   "outputs": [
    {
     "data": {
      "text/html": [
       "<div>\n",
       "<style scoped>\n",
       "    .dataframe tbody tr th:only-of-type {\n",
       "        vertical-align: middle;\n",
       "    }\n",
       "\n",
       "    .dataframe tbody tr th {\n",
       "        vertical-align: top;\n",
       "    }\n",
       "\n",
       "    .dataframe thead th {\n",
       "        text-align: right;\n",
       "    }\n",
       "</style>\n",
       "<table border=\"1\" class=\"dataframe\">\n",
       "  <thead>\n",
       "    <tr style=\"text-align: right;\">\n",
       "      <th></th>\n",
       "      <th>vertice_id</th>\n",
       "      <th>latitude</th>\n",
       "      <th>longitude</th>\n",
       "    </tr>\n",
       "  </thead>\n",
       "  <tbody>\n",
       "    <tr>\n",
       "      <td>0</td>\n",
       "      <td>0</td>\n",
       "      <td>48.757387</td>\n",
       "      <td>2.365479</td>\n",
       "    </tr>\n",
       "    <tr>\n",
       "      <td>1</td>\n",
       "      <td>1</td>\n",
       "      <td>48.761133</td>\n",
       "      <td>2.338927</td>\n",
       "    </tr>\n",
       "    <tr>\n",
       "      <td>2</td>\n",
       "      <td>2</td>\n",
       "      <td>48.747481</td>\n",
       "      <td>2.417145</td>\n",
       "    </tr>\n",
       "  </tbody>\n",
       "</table>\n",
       "</div>"
      ],
      "text/plain": [
       "   vertice_id   latitude  longitude\n",
       "0           0  48.757387   2.365479\n",
       "1           1  48.761133   2.338927\n",
       "2           2  48.747481   2.417145"
      ]
     },
     "execution_count": 52,
     "metadata": {},
     "output_type": "execute_result"
    }
   ],
   "source": [
    "vertice_df = pd.DataFrame(vertices).reset_index().rename(\n",
    "    columns={'index': 'vertice_id', 0: 'latitude', 1: 'longitude'}\n",
    ")\n",
    "vertice_df.head(3)"
   ]
  },
  {
   "cell_type": "code",
   "execution_count": 53,
   "metadata": {},
   "outputs": [
    {
     "data": {
      "text/html": [
       "<div>\n",
       "<style scoped>\n",
       "    .dataframe tbody tr th:only-of-type {\n",
       "        vertical-align: middle;\n",
       "    }\n",
       "\n",
       "    .dataframe tbody tr th {\n",
       "        vertical-align: top;\n",
       "    }\n",
       "\n",
       "    .dataframe thead th {\n",
       "        text-align: right;\n",
       "    }\n",
       "</style>\n",
       "<table border=\"1\" class=\"dataframe\">\n",
       "  <thead>\n",
       "    <tr style=\"text-align: right;\">\n",
       "      <th></th>\n",
       "      <th>station_id</th>\n",
       "      <th>polygon_id</th>\n",
       "      <th>vertice_id</th>\n",
       "    </tr>\n",
       "  </thead>\n",
       "  <tbody>\n",
       "    <tr>\n",
       "      <td>0</td>\n",
       "      <td>0</td>\n",
       "      <td>0</td>\n",
       "      <td>503</td>\n",
       "    </tr>\n",
       "    <tr>\n",
       "      <td>1</td>\n",
       "      <td>0</td>\n",
       "      <td>1</td>\n",
       "      <td>444</td>\n",
       "    </tr>\n",
       "    <tr>\n",
       "      <td>2</td>\n",
       "      <td>0</td>\n",
       "      <td>2</td>\n",
       "      <td>375</td>\n",
       "    </tr>\n",
       "  </tbody>\n",
       "</table>\n",
       "</div>"
      ],
      "text/plain": [
       "   station_id  polygon_id  vertice_id\n",
       "0           0           0         503\n",
       "1           0           1         444\n",
       "2           0           2         375"
      ]
     },
     "execution_count": 53,
     "metadata": {},
     "output_type": "execute_result"
    }
   ],
   "source": [
    "points = []\n",
    "for reg_idx, region in enumerate(regions):\n",
    "    for vtc_idx, vertice in enumerate(region):\n",
    "        points.append([reg_idx, vtc_idx, vertice])\n",
    "        \n",
    "polygon_df = pd.DataFrame(points).rename(columns={0: 'station_id', 1: 'polygon_id', 2: 'vertice_id'})\n",
    "polygon_df.head(3)"
   ]
  },
  {
   "cell_type": "markdown",
   "metadata": {},
   "source": [
    "## Jupytab\n",
    "Creating Tables referential with prepared DataFrame"
   ]
  },
  {
   "cell_type": "code",
   "execution_count": 54,
   "metadata": {},
   "outputs": [],
   "source": [
    "tables = jupytab.Tables()\n",
    "tables['stations'] = jupytab.DataFrameTable('List of Paris subway stations', station_df)\n",
    "tables['vertices'] = jupytab.DataFrameTable('Coordinates of Voronoi cell vertices', vertice_df)\n",
    "tables['polygons'] = jupytab.DataFrameTable('Polygon definition of Voronoi cells', polygon_df)"
   ]
  },
  {
   "cell_type": "markdown",
   "metadata": {},
   "source": [
    "Render the Jupytab schema"
   ]
  },
  {
   "cell_type": "code",
   "execution_count": 55,
   "metadata": {},
   "outputs": [
    {
     "name": "stdout",
     "output_type": "stream",
     "text": [
      "[{\"id\": \"stations\", \"alias\": \"List of Paris subway stations\", \"columns\": [{\"id\": \"station_id\", \"dataType\": \"int\"}, {\"id\": \"district\", \"dataType\": \"string\"}, {\"id\": \"longitude\", \"dataType\": \"float\"}, {\"id\": \"latitude\", \"dataType\": \"float\"}, {\"id\": \"name\", \"dataType\": \"string\"}]}, {\"id\": \"vertices\", \"alias\": \"Coordinates of Voronoi cell vertices\", \"columns\": [{\"id\": \"vertice_id\", \"dataType\": \"int\"}, {\"id\": \"latitude\", \"dataType\": \"float\"}, {\"id\": \"longitude\", \"dataType\": \"float\"}]}, {\"id\": \"polygons\", \"alias\": \"Polygon definition of Voronoi cells\", \"columns\": [{\"id\": \"station_id\", \"dataType\": \"int\"}, {\"id\": \"polygon_id\", \"dataType\": \"int\"}, {\"id\": \"vertice_id\", \"dataType\": \"int\"}]}]\n"
     ]
    }
   ],
   "source": [
    "# GET /schema\n",
    "tables.render_schema()"
   ]
  },
  {
   "cell_type": "markdown",
   "metadata": {},
   "source": [
    "Render the Jupytab datas"
   ]
  },
  {
   "cell_type": "code",
   "execution_count": 56,
   "metadata": {},
   "outputs": [
    {
     "ename": "NameError",
     "evalue": "name 'REQUEST' is not defined",
     "output_type": "error",
     "traceback": [
      "\u001b[0;31m---------------------------------------------------------------------------\u001b[0m",
      "\u001b[0;31mNameError\u001b[0m                                 Traceback (most recent call last)",
      "\u001b[0;32m<ipython-input-56-c5e1a6b1cfcd>\u001b[0m in \u001b[0;36m<module>\u001b[0;34m\u001b[0m\n\u001b[1;32m      1\u001b[0m \u001b[0;31m# GET /data\u001b[0m\u001b[0;34m\u001b[0m\u001b[0;34m\u001b[0m\u001b[0;34m\u001b[0m\u001b[0m\n\u001b[0;32m----> 2\u001b[0;31m \u001b[0mtables\u001b[0m\u001b[0;34m.\u001b[0m\u001b[0mrender_data\u001b[0m\u001b[0;34m(\u001b[0m\u001b[0mREQUEST\u001b[0m\u001b[0;34m)\u001b[0m\u001b[0;34m\u001b[0m\u001b[0;34m\u001b[0m\u001b[0m\n\u001b[0m",
      "\u001b[0;31mNameError\u001b[0m: name 'REQUEST' is not defined"
     ]
    }
   ],
   "source": [
    "# GET /data\n",
    "tables.render_data(REQUEST)"
   ]
  }
 ],
 "metadata": {
  "kernelspec": {
   "display_name": "jupytab-atp",
   "language": "python",
   "name": "jupytab-atp"
  },
  "language_info": {
   "codemirror_mode": {
    "name": "ipython",
    "version": 3
   },
   "file_extension": ".py",
   "mimetype": "text/x-python",
   "name": "python",
   "nbconvert_exporter": "python",
   "pygments_lexer": "ipython3",
   "version": "3.6.8"
  }
 },
 "nbformat": 4,
 "nbformat_minor": 2
}
