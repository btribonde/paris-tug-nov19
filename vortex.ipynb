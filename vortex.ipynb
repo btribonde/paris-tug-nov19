{
 "cells": [
  {
   "cell_type": "markdown",
   "metadata": {},
   "source": [
    "# Create an simple animated whirlwind\n",
    "1.  Let's import the packages:"
   ]
  },
  {
   "cell_type": "code",
   "execution_count": 22,
   "metadata": {},
   "outputs": [],
   "source": [
    "import pandas as pd\n",
    "import numpy as np\n",
    "import math\n",
    "import jupytab"
   ]
  },
  {
   "cell_type": "markdown",
   "metadata": {},
   "source": [
    "2.  The vortex is multiple circle drawn using basic trigonometry (sin, cos) with a larger radius at each step. A frame idx allow to add an animation on size.\n",
    "![title](Circle_cos_sin.gif)"
   ]
  },
  {
   "cell_type": "code",
   "execution_count": 23,
   "metadata": {},
   "outputs": [
    {
     "data": {
      "text/html": [
       "<div>\n",
       "<style scoped>\n",
       "    .dataframe tbody tr th:only-of-type {\n",
       "        vertical-align: middle;\n",
       "    }\n",
       "\n",
       "    .dataframe tbody tr th {\n",
       "        vertical-align: top;\n",
       "    }\n",
       "\n",
       "    .dataframe thead th {\n",
       "        text-align: right;\n",
       "    }\n",
       "</style>\n",
       "<table border=\"1\" class=\"dataframe\">\n",
       "  <thead>\n",
       "    <tr style=\"text-align: right;\">\n",
       "      <th></th>\n",
       "      <th>x</th>\n",
       "      <th>y</th>\n",
       "      <th>z</th>\n",
       "      <th>frame</th>\n",
       "    </tr>\n",
       "  </thead>\n",
       "  <tbody>\n",
       "    <tr>\n",
       "      <td>90</td>\n",
       "      <td>0.856222</td>\n",
       "      <td>-0.305499</td>\n",
       "      <td>-0.847375</td>\n",
       "      <td>34</td>\n",
       "    </tr>\n",
       "    <tr>\n",
       "      <td>53</td>\n",
       "      <td>0.529660</td>\n",
       "      <td>-0.077870</td>\n",
       "      <td>-0.791515</td>\n",
       "      <td>43</td>\n",
       "    </tr>\n",
       "    <tr>\n",
       "      <td>66</td>\n",
       "      <td>-0.652098</td>\n",
       "      <td>-0.138608</td>\n",
       "      <td>-0.268920</td>\n",
       "      <td>2</td>\n",
       "    </tr>\n",
       "  </tbody>\n",
       "</table>\n",
       "</div>"
      ],
      "text/plain": [
       "           x         y         z  frame\n",
       "90  0.856222 -0.305499 -0.847375     34\n",
       "53  0.529660 -0.077870 -0.791515     43\n",
       "66 -0.652098 -0.138608 -0.268920      2"
      ]
     },
     "execution_count": 23,
     "metadata": {},
     "output_type": "execute_result"
    }
   ],
   "source": [
    "frame_count = 50\n",
    "circle_count = 5\n",
    "circle_steps = 100\n",
    "\n",
    "# Generate a 0 to 1 array with circle_steps\n",
    "lin_array = np.linspace(0.0, 1.0, circle_steps)\n",
    "\n",
    "vortex_df = pd.DataFrame()\n",
    "for frame in range(0,frame_count):\n",
    "    index = (lin_array + (frame / frame_count)) * math.pi * 2\n",
    "    vortex_df = vortex_df.append(pd.DataFrame(\n",
    "        { 'x': np.cos(index * circle_count) * lin_array,\n",
    "          'y': np.sin(index * circle_count) * lin_array,\n",
    "          'z': np.cos(index),\n",
    "          'frame': frame\n",
    "        }))\n",
    "vortex_df.sample(3)"
   ]
  },
  {
   "cell_type": "markdown",
   "metadata": {},
   "source": [
    "## Jupytab\n",
    "Creating Tables referential with prepared DataFrame"
   ]
  },
  {
   "cell_type": "code",
   "execution_count": 16,
   "metadata": {},
   "outputs": [],
   "source": [
    "tables = jupytab.Tables()\n",
    "tables['vortex'] = jupytab.DataFrameTable('An animated vortex', vortex_df)"
   ]
  },
  {
   "cell_type": "markdown",
   "metadata": {},
   "source": [
    "Render the Jupytab schema"
   ]
  },
  {
   "cell_type": "code",
   "execution_count": 17,
   "metadata": {},
   "outputs": [
    {
     "name": "stdout",
     "output_type": "stream",
     "text": [
      "[{\"id\": \"vortex\", \"alias\": \"An animated vortex\", \"columns\": [{\"id\": \"x\", \"dataType\": \"float\"}, {\"id\": \"y\", \"dataType\": \"float\"}, {\"id\": \"z\", \"dataType\": \"float\"}]}]\n"
     ]
    }
   ],
   "source": [
    "# GET /schema\n",
    "tables.render_schema()"
   ]
  },
  {
   "cell_type": "markdown",
   "metadata": {},
   "source": [
    "Render the Jupytab datas"
   ]
  },
  {
   "cell_type": "code",
   "execution_count": 18,
   "metadata": {},
   "outputs": [
    {
     "ename": "NameError",
     "evalue": "name 'REQUEST' is not defined",
     "output_type": "error",
     "traceback": [
      "\u001b[0;31m---------------------------------------------------------------------------\u001b[0m",
      "\u001b[0;31mNameError\u001b[0m                                 Traceback (most recent call last)",
      "\u001b[0;32m<ipython-input-18-c5e1a6b1cfcd>\u001b[0m in \u001b[0;36m<module>\u001b[0;34m\u001b[0m\n\u001b[1;32m      1\u001b[0m \u001b[0;31m# GET /data\u001b[0m\u001b[0;34m\u001b[0m\u001b[0;34m\u001b[0m\u001b[0;34m\u001b[0m\u001b[0m\n\u001b[0;32m----> 2\u001b[0;31m \u001b[0mtables\u001b[0m\u001b[0;34m.\u001b[0m\u001b[0mrender_data\u001b[0m\u001b[0;34m(\u001b[0m\u001b[0mREQUEST\u001b[0m\u001b[0;34m)\u001b[0m\u001b[0;34m\u001b[0m\u001b[0;34m\u001b[0m\u001b[0m\n\u001b[0m",
      "\u001b[0;31mNameError\u001b[0m: name 'REQUEST' is not defined"
     ]
    }
   ],
   "source": [
    "# GET /data\n",
    "tables.render_data(REQUEST)"
   ]
  }
 ],
 "metadata": {
  "kernelspec": {
   "display_name": "jupytab-atp",
   "language": "python",
   "name": "jupytab-atp"
  },
  "language_info": {
   "codemirror_mode": {
    "name": "ipython",
    "version": 3
   },
   "file_extension": ".py",
   "mimetype": "text/x-python",
   "name": "python",
   "nbconvert_exporter": "python",
   "pygments_lexer": "ipython3",
   "version": "3.6.8"
  }
 },
 "nbformat": 4,
 "nbformat_minor": 2
}
